{
 "cells": [
  {
   "cell_type": "markdown",
   "id": "306b486d-0e7e-44a7-b904-900eb8d4880a",
   "metadata": {},
   "source": [
    "Q1. Explain Class and Object with respect to Object-Oriented Programming. Give a suitable example."
   ]
  },
  {
   "cell_type": "markdown",
   "id": "92e41730-a2a2-4e4d-8d33-150925e9994d",
   "metadata": {},
   "source": [
    "Class − A class can be defined as a template/blueprint that describes the behavior/state that the object of its type support.\n",
    "\n",
    "Object − Objects have states and behaviors."
   ]
  },
  {
   "cell_type": "code",
   "execution_count": 1,
   "id": "248ede74-a028-4afc-9dae-4afc06bfba7a",
   "metadata": {},
   "outputs": [],
   "source": [
    "# creating a class\n",
    "class Bike:\n",
    "    name = \"\"\n",
    "    gear = 0\n",
    "    \n",
    "# create objects of class\n",
    "bike1 = Bike()"
   ]
  },
  {
   "cell_type": "markdown",
   "id": "cbdd4efc-281d-41b3-9bdc-90a1369a43ff",
   "metadata": {},
   "source": [
    "Q2. Name the four pillars of OOPs."
   ]
  },
  {
   "cell_type": "markdown",
   "id": "afd6f7e9-ca94-4411-93f2-110b926b3499",
   "metadata": {},
   "source": [
    "The Four Pillars of Object-Oriented Programming\n",
    "- Abstraction.\n",
    "- Encapsulation.\n",
    "- Inheritance.\n",
    "- Polymorphism."
   ]
  },
  {
   "cell_type": "markdown",
   "id": "4e778acf-518f-4723-b714-cc01dddf69ec",
   "metadata": {},
   "source": [
    "Q3. Explain why the __init__() function is used. Give a suitable example."
   ]
  },
  {
   "cell_type": "markdown",
   "id": "4e2df9fa-d949-4d4a-975c-c398e66e77d8",
   "metadata": {},
   "source": [
    "The __init__ is a special method known as the constructor. It is automatically called when a new instance (object) of a class is created. The __init__ method allows you to initialize the attributes (variables) of an object."
   ]
  },
  {
   "cell_type": "code",
   "execution_count": 3,
   "id": "f3c242aa-87b8-489f-9c9c-681918dcbf75",
   "metadata": {},
   "outputs": [
    {
     "name": "stdout",
     "output_type": "stream",
     "text": [
      "Name: Abhi\n",
      "Age: 25\n"
     ]
    }
   ],
   "source": [
    "class MyClass:\n",
    "    def __init__(self, name, age):\n",
    "        self.name = name\n",
    "        self.age = age\n",
    "\n",
    "    def display_info(self):\n",
    "        print(f\"Name: {self.name}\")\n",
    "        print(f\"Age: {self.age}\")\n",
    "\n",
    "# Creating an instance of MyClass\n",
    "obj = MyClass(\"Abhi\", 25)\n",
    "\n",
    "# Accessing attributes and calling methods\n",
    "obj.display_info()"
   ]
  },
  {
   "cell_type": "markdown",
   "id": "5dd241e9-8f85-446e-a2b8-1013d3fca7bc",
   "metadata": {},
   "source": [
    "Q4. Why self is used in OOPs?"
   ]
  },
  {
   "cell_type": "markdown",
   "id": "967754a5-1b6f-4a05-895b-aef9973826cd",
   "metadata": {},
   "source": [
    "'self' is a convention used as the first parameter in method definitions within a class. The purpose of 'self' is to provide a way for methods to access the attributes and other methods of the object it belongs to.\n",
    "\n",
    "By using self, we can differentiate between the instance variables of an object and the local variables within a method. It helps in maintaining the state and scope of the object's attributes throughout its lifetime."
   ]
  },
  {
   "cell_type": "markdown",
   "id": "3a92691c-3c03-4f59-bc48-ba6913135825",
   "metadata": {},
   "source": [
    "Q5. What is inheritance? Give an example for each type of inheritance."
   ]
  },
  {
   "cell_type": "markdown",
   "id": "bd12196b-fdd6-4211-ae09-f81f110f1b02",
   "metadata": {},
   "source": [
    "Inheritance is a process of obtaining properties and characteristics(variables and methods) of another class. In this hierarchical order, the class which inherits another class is called subclass or child class, and the other class is the parent class.\n",
    "\n",
    "Inheritance is categorized based on the hierarchy followed and the number of parent classes and subclasses involved.\n"
   ]
  },
  {
   "cell_type": "code",
   "execution_count": 4,
   "id": "dfaf4785-1a67-4bdf-bec2-3b4d13342512",
   "metadata": {},
   "outputs": [
    {
     "name": "stdout",
     "output_type": "stream",
     "text": [
      "Moving vehicle.\n",
      "Driving car.\n"
     ]
    }
   ],
   "source": [
    "\"\"\"Single Inheritance\n",
    "This type of inheritance enables a subclass or derived class to inherit properties and characteristics of the parent class, this avoids duplication of\n",
    "code and improves code reusability.\"\"\"\n",
    "\n",
    "\n",
    "class Vehicle:\n",
    "    def move(self):\n",
    "        print(\"Moving vehicle.\")\n",
    "\n",
    "class Car(Vehicle):\n",
    "    def drive(self):\n",
    "        print(\"Driving car.\")\n",
    "\n",
    "car = Car()\n",
    "\n",
    "car.move()\n",
    "car.drive()\n"
   ]
  },
  {
   "cell_type": "code",
   "execution_count": 5,
   "id": "dc98e2c6-3102-4ea9-b213-0a9b01134abe",
   "metadata": {},
   "outputs": [
    {
     "name": "stdout",
     "output_type": "stream",
     "text": [
      "Flying.\n",
      "Swimming.\n",
      "Quack!\n"
     ]
    }
   ],
   "source": [
    "\"\"\"Multiple Inheritance\n",
    "This inheritance enables a child class to inherit from more than one parent class. This type of inheritance is not supported by java classes, but\n",
    "python does support this kind of inheritance. It has a massive advantage if we have a requirement of gathering multiple characteristics from different\n",
    "classes.\"\"\"\n",
    "\n",
    "class Flyer:\n",
    "    def fly(self):\n",
    "        print(\"Flying.\")\n",
    "\n",
    "class Swimmer:\n",
    "    def swim(self):\n",
    "        print(\"Swimming.\")\n",
    "\n",
    "class Duck(Flyer, Swimmer):\n",
    "    def quack(self):\n",
    "        print(\"Quack!\")\n",
    "\n",
    "duck = Duck()\n",
    "\n",
    "duck.fly()\n",
    "duck.swim()\n",
    "duck.quack()"
   ]
  },
  {
   "cell_type": "code",
   "execution_count": 6,
   "id": "198a2c0b-0400-4a4a-8465-21071f744101",
   "metadata": {},
   "outputs": [
    {
     "name": "stdout",
     "output_type": "stream",
     "text": [
      "Eating.\n",
      "Breathing.\n",
      "Barking.\n"
     ]
    }
   ],
   "source": [
    "\"\"\"Multilevel Inheritance\n",
    "In multilevel inheritance, the transfer of the properties of characteristics is done to more than one class hierarchically. \"\"\"\n",
    "\n",
    "class Animal:\n",
    "    def eat(self):\n",
    "        print(\"Eating.\")\n",
    "\n",
    "class Mammal(Animal):\n",
    "    def breathe(self):\n",
    "        print(\"Breathing.\")\n",
    "\n",
    "class Dog(Mammal):\n",
    "    def bark(self):\n",
    "        print(\"Barking.\")\n",
    "\n",
    "dog = Dog()\n",
    "\n",
    "dog.eat()     \n",
    "dog.breathe()\n",
    "dog.bark()\n"
   ]
  },
  {
   "cell_type": "code",
   "execution_count": null,
   "id": "b08934ce-8414-4503-90d0-3e9101b9f836",
   "metadata": {},
   "outputs": [],
   "source": []
  }
 ],
 "metadata": {
  "kernelspec": {
   "display_name": "Python 3 (ipykernel)",
   "language": "python",
   "name": "python3"
  },
  "language_info": {
   "codemirror_mode": {
    "name": "ipython",
    "version": 3
   },
   "file_extension": ".py",
   "mimetype": "text/x-python",
   "name": "python",
   "nbconvert_exporter": "python",
   "pygments_lexer": "ipython3",
   "version": "3.10.8"
  }
 },
 "nbformat": 4,
 "nbformat_minor": 5
}
